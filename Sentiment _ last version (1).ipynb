{
 "cells": [
  {
   "cell_type": "code",
   "execution_count": 1,
   "id": "472d9132",
   "metadata": {},
   "outputs": [],
   "source": [
    "from sklearn.metrics import accuracy_score , f1_score , precision_score , recall_score"
   ]
  },
  {
   "cell_type": "code",
   "execution_count": 3,
   "id": "d3de35e8",
   "metadata": {},
   "outputs": [],
   "source": [
    "import pandas as pd\n",
    "df = pd.read_csv(\"C:\\\\Users\\\\16395\\\\Downloads\\\\train.csv\"  )"
   ]
  },
  {
   "cell_type": "code",
   "execution_count": 4,
   "id": "fba42207",
   "metadata": {},
   "outputs": [],
   "source": [
    "df = df.dropna()"
   ]
  },
  {
   "cell_type": "code",
   "execution_count": 5,
   "id": "e1a66623",
   "metadata": {},
   "outputs": [
    {
     "data": {
      "text/html": [
       "<div>\n",
       "<style scoped>\n",
       "    .dataframe tbody tr th:only-of-type {\n",
       "        vertical-align: middle;\n",
       "    }\n",
       "\n",
       "    .dataframe tbody tr th {\n",
       "        vertical-align: top;\n",
       "    }\n",
       "\n",
       "    .dataframe thead th {\n",
       "        text-align: right;\n",
       "    }\n",
       "</style>\n",
       "<table border=\"1\" class=\"dataframe\">\n",
       "  <thead>\n",
       "    <tr style=\"text-align: right;\">\n",
       "      <th></th>\n",
       "      <th>review_id</th>\n",
       "      <th>title</th>\n",
       "      <th>year</th>\n",
       "      <th>user_review</th>\n",
       "      <th>user_suggestion</th>\n",
       "    </tr>\n",
       "  </thead>\n",
       "  <tbody>\n",
       "    <tr>\n",
       "      <th>0</th>\n",
       "      <td>1</td>\n",
       "      <td>Spooky's Jump Scare Mansion</td>\n",
       "      <td>2016.0</td>\n",
       "      <td>I'm scared and hearing creepy voices.  So I'll...</td>\n",
       "      <td>1</td>\n",
       "    </tr>\n",
       "    <tr>\n",
       "      <th>1</th>\n",
       "      <td>2</td>\n",
       "      <td>Spooky's Jump Scare Mansion</td>\n",
       "      <td>2016.0</td>\n",
       "      <td>Best game, more better than Sam Pepper's YouTu...</td>\n",
       "      <td>1</td>\n",
       "    </tr>\n",
       "    <tr>\n",
       "      <th>2</th>\n",
       "      <td>3</td>\n",
       "      <td>Spooky's Jump Scare Mansion</td>\n",
       "      <td>2016.0</td>\n",
       "      <td>A littly iffy on the controls, but once you kn...</td>\n",
       "      <td>1</td>\n",
       "    </tr>\n",
       "    <tr>\n",
       "      <th>3</th>\n",
       "      <td>4</td>\n",
       "      <td>Spooky's Jump Scare Mansion</td>\n",
       "      <td>2015.0</td>\n",
       "      <td>Great game, fun and colorful and all that.A si...</td>\n",
       "      <td>1</td>\n",
       "    </tr>\n",
       "    <tr>\n",
       "      <th>4</th>\n",
       "      <td>5</td>\n",
       "      <td>Spooky's Jump Scare Mansion</td>\n",
       "      <td>2015.0</td>\n",
       "      <td>Not many games have the cute tag right next to...</td>\n",
       "      <td>1</td>\n",
       "    </tr>\n",
       "    <tr>\n",
       "      <th>...</th>\n",
       "      <td>...</td>\n",
       "      <td>...</td>\n",
       "      <td>...</td>\n",
       "      <td>...</td>\n",
       "      <td>...</td>\n",
       "    </tr>\n",
       "    <tr>\n",
       "      <th>17487</th>\n",
       "      <td>25533</td>\n",
       "      <td>EverQuest II</td>\n",
       "      <td>2013.0</td>\n",
       "      <td>After I had played it extensively for four yea...</td>\n",
       "      <td>1</td>\n",
       "    </tr>\n",
       "    <tr>\n",
       "      <th>17488</th>\n",
       "      <td>25534</td>\n",
       "      <td>EverQuest II</td>\n",
       "      <td>2017.0</td>\n",
       "      <td>this was the first MMORPG i've ever played but...</td>\n",
       "      <td>0</td>\n",
       "    </tr>\n",
       "    <tr>\n",
       "      <th>17489</th>\n",
       "      <td>25535</td>\n",
       "      <td>EverQuest II</td>\n",
       "      <td>2012.0</td>\n",
       "      <td>Arguably the single greatest mmorp that exists...</td>\n",
       "      <td>1</td>\n",
       "    </tr>\n",
       "    <tr>\n",
       "      <th>17490</th>\n",
       "      <td>25536</td>\n",
       "      <td>EverQuest II</td>\n",
       "      <td>2017.0</td>\n",
       "      <td>An older game, to be sure, but has its own cha...</td>\n",
       "      <td>1</td>\n",
       "    </tr>\n",
       "    <tr>\n",
       "      <th>17491</th>\n",
       "      <td>25537</td>\n",
       "      <td>EverQuest II</td>\n",
       "      <td>2011.0</td>\n",
       "      <td>When I frist started playing Everquest 2 it wa...</td>\n",
       "      <td>1</td>\n",
       "    </tr>\n",
       "  </tbody>\n",
       "</table>\n",
       "<p>17316 rows × 5 columns</p>\n",
       "</div>"
      ],
      "text/plain": [
       "       review_id                        title    year  \\\n",
       "0              1  Spooky's Jump Scare Mansion  2016.0   \n",
       "1              2  Spooky's Jump Scare Mansion  2016.0   \n",
       "2              3  Spooky's Jump Scare Mansion  2016.0   \n",
       "3              4  Spooky's Jump Scare Mansion  2015.0   \n",
       "4              5  Spooky's Jump Scare Mansion  2015.0   \n",
       "...          ...                          ...     ...   \n",
       "17487      25533                 EverQuest II  2013.0   \n",
       "17488      25534                 EverQuest II  2017.0   \n",
       "17489      25535                 EverQuest II  2012.0   \n",
       "17490      25536                 EverQuest II  2017.0   \n",
       "17491      25537                 EverQuest II  2011.0   \n",
       "\n",
       "                                             user_review  user_suggestion  \n",
       "0      I'm scared and hearing creepy voices.  So I'll...                1  \n",
       "1      Best game, more better than Sam Pepper's YouTu...                1  \n",
       "2      A littly iffy on the controls, but once you kn...                1  \n",
       "3      Great game, fun and colorful and all that.A si...                1  \n",
       "4      Not many games have the cute tag right next to...                1  \n",
       "...                                                  ...              ...  \n",
       "17487  After I had played it extensively for four yea...                1  \n",
       "17488  this was the first MMORPG i've ever played but...                0  \n",
       "17489  Arguably the single greatest mmorp that exists...                1  \n",
       "17490  An older game, to be sure, but has its own cha...                1  \n",
       "17491  When I frist started playing Everquest 2 it wa...                1  \n",
       "\n",
       "[17316 rows x 5 columns]"
      ]
     },
     "execution_count": 5,
     "metadata": {},
     "output_type": "execute_result"
    }
   ],
   "source": [
    "df"
   ]
  },
  {
   "cell_type": "code",
   "execution_count": 6,
   "id": "01b5c508",
   "metadata": {},
   "outputs": [],
   "source": [
    "def isEnglish(line):\n",
    "    totalChars = len(line)\n",
    "    nAsciiChars = 0\n",
    "    for c in list(line):\n",
    "        if ord(c) >= 0 and ord(c) <= 128:\n",
    "            nAsciiChars += 1\n",
    "    return (nAsciiChars / totalChars) >= 0.5\n",
    "\n",
    "englishReviews = []\n",
    "nonEnglishReviews = []\n",
    "\n",
    "\n",
    "df_filtered = df[df['user_review'].apply(isEnglish)]\n",
    "\n"
   ]
  },
  {
   "cell_type": "code",
   "execution_count": 7,
   "id": "1526508c",
   "metadata": {
    "scrolled": true
   },
   "outputs": [
    {
     "data": {
      "text/html": [
       "<div>\n",
       "<style scoped>\n",
       "    .dataframe tbody tr th:only-of-type {\n",
       "        vertical-align: middle;\n",
       "    }\n",
       "\n",
       "    .dataframe tbody tr th {\n",
       "        vertical-align: top;\n",
       "    }\n",
       "\n",
       "    .dataframe thead th {\n",
       "        text-align: right;\n",
       "    }\n",
       "</style>\n",
       "<table border=\"1\" class=\"dataframe\">\n",
       "  <thead>\n",
       "    <tr style=\"text-align: right;\">\n",
       "      <th></th>\n",
       "      <th>review_id</th>\n",
       "      <th>title</th>\n",
       "      <th>year</th>\n",
       "      <th>user_review</th>\n",
       "      <th>user_suggestion</th>\n",
       "    </tr>\n",
       "  </thead>\n",
       "  <tbody>\n",
       "    <tr>\n",
       "      <th>0</th>\n",
       "      <td>1</td>\n",
       "      <td>Spooky's Jump Scare Mansion</td>\n",
       "      <td>2016.0</td>\n",
       "      <td>I'm scared and hearing creepy voices.  So I'll...</td>\n",
       "      <td>1</td>\n",
       "    </tr>\n",
       "    <tr>\n",
       "      <th>1</th>\n",
       "      <td>2</td>\n",
       "      <td>Spooky's Jump Scare Mansion</td>\n",
       "      <td>2016.0</td>\n",
       "      <td>Best game, more better than Sam Pepper's YouTu...</td>\n",
       "      <td>1</td>\n",
       "    </tr>\n",
       "    <tr>\n",
       "      <th>2</th>\n",
       "      <td>3</td>\n",
       "      <td>Spooky's Jump Scare Mansion</td>\n",
       "      <td>2016.0</td>\n",
       "      <td>A littly iffy on the controls, but once you kn...</td>\n",
       "      <td>1</td>\n",
       "    </tr>\n",
       "    <tr>\n",
       "      <th>3</th>\n",
       "      <td>4</td>\n",
       "      <td>Spooky's Jump Scare Mansion</td>\n",
       "      <td>2015.0</td>\n",
       "      <td>Great game, fun and colorful and all that.A si...</td>\n",
       "      <td>1</td>\n",
       "    </tr>\n",
       "    <tr>\n",
       "      <th>4</th>\n",
       "      <td>5</td>\n",
       "      <td>Spooky's Jump Scare Mansion</td>\n",
       "      <td>2015.0</td>\n",
       "      <td>Not many games have the cute tag right next to...</td>\n",
       "      <td>1</td>\n",
       "    </tr>\n",
       "    <tr>\n",
       "      <th>...</th>\n",
       "      <td>...</td>\n",
       "      <td>...</td>\n",
       "      <td>...</td>\n",
       "      <td>...</td>\n",
       "      <td>...</td>\n",
       "    </tr>\n",
       "    <tr>\n",
       "      <th>17487</th>\n",
       "      <td>25533</td>\n",
       "      <td>EverQuest II</td>\n",
       "      <td>2013.0</td>\n",
       "      <td>After I had played it extensively for four yea...</td>\n",
       "      <td>1</td>\n",
       "    </tr>\n",
       "    <tr>\n",
       "      <th>17488</th>\n",
       "      <td>25534</td>\n",
       "      <td>EverQuest II</td>\n",
       "      <td>2017.0</td>\n",
       "      <td>this was the first MMORPG i've ever played but...</td>\n",
       "      <td>0</td>\n",
       "    </tr>\n",
       "    <tr>\n",
       "      <th>17489</th>\n",
       "      <td>25535</td>\n",
       "      <td>EverQuest II</td>\n",
       "      <td>2012.0</td>\n",
       "      <td>Arguably the single greatest mmorp that exists...</td>\n",
       "      <td>1</td>\n",
       "    </tr>\n",
       "    <tr>\n",
       "      <th>17490</th>\n",
       "      <td>25536</td>\n",
       "      <td>EverQuest II</td>\n",
       "      <td>2017.0</td>\n",
       "      <td>An older game, to be sure, but has its own cha...</td>\n",
       "      <td>1</td>\n",
       "    </tr>\n",
       "    <tr>\n",
       "      <th>17491</th>\n",
       "      <td>25537</td>\n",
       "      <td>EverQuest II</td>\n",
       "      <td>2011.0</td>\n",
       "      <td>When I frist started playing Everquest 2 it wa...</td>\n",
       "      <td>1</td>\n",
       "    </tr>\n",
       "  </tbody>\n",
       "</table>\n",
       "<p>17227 rows × 5 columns</p>\n",
       "</div>"
      ],
      "text/plain": [
       "       review_id                        title    year  \\\n",
       "0              1  Spooky's Jump Scare Mansion  2016.0   \n",
       "1              2  Spooky's Jump Scare Mansion  2016.0   \n",
       "2              3  Spooky's Jump Scare Mansion  2016.0   \n",
       "3              4  Spooky's Jump Scare Mansion  2015.0   \n",
       "4              5  Spooky's Jump Scare Mansion  2015.0   \n",
       "...          ...                          ...     ...   \n",
       "17487      25533                 EverQuest II  2013.0   \n",
       "17488      25534                 EverQuest II  2017.0   \n",
       "17489      25535                 EverQuest II  2012.0   \n",
       "17490      25536                 EverQuest II  2017.0   \n",
       "17491      25537                 EverQuest II  2011.0   \n",
       "\n",
       "                                             user_review  user_suggestion  \n",
       "0      I'm scared and hearing creepy voices.  So I'll...                1  \n",
       "1      Best game, more better than Sam Pepper's YouTu...                1  \n",
       "2      A littly iffy on the controls, but once you kn...                1  \n",
       "3      Great game, fun and colorful and all that.A si...                1  \n",
       "4      Not many games have the cute tag right next to...                1  \n",
       "...                                                  ...              ...  \n",
       "17487  After I had played it extensively for four yea...                1  \n",
       "17488  this was the first MMORPG i've ever played but...                0  \n",
       "17489  Arguably the single greatest mmorp that exists...                1  \n",
       "17490  An older game, to be sure, but has its own cha...                1  \n",
       "17491  When I frist started playing Everquest 2 it wa...                1  \n",
       "\n",
       "[17227 rows x 5 columns]"
      ]
     },
     "execution_count": 7,
     "metadata": {},
     "output_type": "execute_result"
    }
   ],
   "source": [
    "df_filtered"
   ]
  },
  {
   "cell_type": "code",
   "execution_count": 10,
   "id": "bb85043f",
   "metadata": {},
   "outputs": [
    {
     "data": {
      "image/png": "[encoded data removed]",
      "text/plain": [
       "<Figure size 1000x600 with 1 Axes>"
      ]
     },
     "metadata": {},
     "output_type": "display_data"
    }
   ],
   "source": [
    "import matplotlib.pyplot as plt\n",
    "df1= df_filtered.groupby('user_suggestion')\n",
    "df2= df1['user_suggestion'].count()\n",
    "df2.plot(kind=\"bar\",figsize=(10,6))\n",
    "plt.xlabel(\"Negative (0) & Positive (1) Suggestions\")\n",
    "plt.ylabel(\"Number Of Suggestions\")\n",
    "plt.show()"
   ]
  },
  {
   "cell_type": "code",
   "execution_count": 55,
   "id": "52ac086b",
   "metadata": {},
   "outputs": [],
   "source": [
    "x = df_filtered['user_review']"
   ]
  },
  {
   "cell_type": "code",
   "execution_count": 59,
   "id": "bf56bb6d",
   "metadata": {},
   "outputs": [
    {
     "data": {
      "text/plain": [
       "1    9825\n",
       "0    7402\n",
       "Name: user_suggestion, dtype: int64"
      ]
     },
     "execution_count": 59,
     "metadata": {},
     "output_type": "execute_result"
    }
   ],
   "source": [
    "df_filtered['user_suggestion'].value_counts()"
   ]
  },
  {
   "cell_type": "code",
   "execution_count": 63,
   "id": "dbbba058",
   "metadata": {},
   "outputs": [],
   "source": [
    "length = []\n",
    "x = x.to_list()\n",
    "for i in range(len(x)):\n",
    "    length.append(len(x[i]))"
   ]
  },
  {
   "cell_type": "code",
   "execution_count": 64,
   "id": "1bc49a70",
   "metadata": {},
   "outputs": [
    {
     "data": {
      "text/plain": [
       "761.4894061647414"
      ]
     },
     "execution_count": 64,
     "metadata": {},
     "output_type": "execute_result"
    }
   ],
   "source": [
    "import numpy as np\n",
    "np.mean(length)"
   ]
  },
  {
   "cell_type": "code",
   "execution_count": 110,
   "id": "f11203c0",
   "metadata": {},
   "outputs": [],
   "source": [
    "mid = int(np.mean(length))\n",
    "x_mean = []\n",
    "for i in range(len(x)):\n",
    "    if len(x[i])>mid:\n",
    "        x_mean.append(x[i][:mid])\n",
    "    else:\n",
    "        x_mean.append(x[i])"
   ]
  },
  {
   "cell_type": "code",
   "execution_count": 111,
   "id": "9f93b5b0",
   "metadata": {},
   "outputs": [
    {
     "data": {
      "text/plain": [
       "17227"
      ]
     },
     "execution_count": 111,
     "metadata": {},
     "output_type": "execute_result"
    }
   ],
   "source": [
    "len(x_mean)"
   ]
  },
  {
   "cell_type": "code",
   "execution_count": 69,
   "id": "22617fae",
   "metadata": {},
   "outputs": [],
   "source": [
    "y = df_filtered['user_suggestion']"
   ]
  },
  {
   "cell_type": "code",
   "execution_count": 70,
   "id": "99b0ed20",
   "metadata": {
    "scrolled": true
   },
   "outputs": [
    {
     "data": {
      "text/plain": [
       "0        1\n",
       "1        1\n",
       "2        1\n",
       "3        1\n",
       "4        1\n",
       "        ..\n",
       "17487    1\n",
       "17488    0\n",
       "17489    1\n",
       "17490    1\n",
       "17491    1\n",
       "Name: user_suggestion, Length: 17227, dtype: int64"
      ]
     },
     "execution_count": 70,
     "metadata": {},
     "output_type": "execute_result"
    }
   ],
   "source": [
    "y"
   ]
  },
  {
   "cell_type": "code",
   "execution_count": 12,
   "id": "2e383d70",
   "metadata": {},
   "outputs": [
    {
     "data": {
      "image/png": "[encoded data removed]",
      "text/plain": [
       "<Figure size 800x600 with 1 Axes>"
      ]
     },
     "metadata": {},
     "output_type": "display_data"
    }
   ],
   "source": [
    "import matplotlib.pyplot as plt\n",
    "\n",
    "# Assuming 'original_samples' is the total number of samples in the original dataset\n",
    "original_samples = len(df)\n",
    "filtered_samples = len(df_filtered) # Number of samples after filtering\n",
    "\n",
    "# Calculate the number of samples in training and testing sets\n",
    "train_samples = int(original_samples * 0.8)\n",
    "test_samples = original_samples - train_samples\n",
    "\n",
    "# Plot the dataset figure\n",
    "fig, ax = plt.subplots(figsize=(8, 6))\n",
    "ax.bar(['Original Dataset', 'Filtered Dataset', 'Training Set', 'Testing Set'],\n",
    "       [original_samples, filtered_samples, train_samples, test_samples],\n",
    "       color=['blue', 'orange', 'green', 'red'])\n",
    "ax.set_ylabel('Number of Samples')\n",
    "ax.set_title('Revised Dataset Figure')\n",
    "plt.show()"
   ]
  },
  {
   "cell_type": "markdown",
   "id": "16b1984c",
   "metadata": {},
   "source": [
    "# KNN with original length and stopword removal"
   ]
  },
  {
   "cell_type": "code",
   "execution_count": 112,
   "id": "6c1fa99d",
   "metadata": {},
   "outputs": [],
   "source": [
    "from sklearn.feature_extraction.text import CountVectorizer\n",
    "from sklearn.feature_extraction.text import TfidfVectorizer\n",
    "from sklearn.model_selection import train_test_split\n",
    "from nltk.corpus import stopwords\n",
    "ntlkStopWords = list(stopwords.words('english'))\n",
    "\n",
    "vectorizer = TfidfVectorizer(stop_words=ntlkStopWords, max_features=10000, ngram_range=(1,2), min_df = 3)\n",
    "\n",
    "\n",
    "x_vector = vectorizer.fit_transform(x);"
   ]
  },
  {
   "cell_type": "code",
   "execution_count": 125,
   "id": "187df68e",
   "metadata": {},
   "outputs": [
    {
     "name": "stdout",
     "output_type": "stream",
     "text": [
      "1 2 3 4 5 6 7 8 9 10 11 12 13 14 15 16 17 18 19 20 21 22 23 24 25 26 27 28 29 30 31 32 33 34 35 36 37 38 39 40 41 42 43 44 45 46 47 48 49 50 51 52 53 54 55 56 57 58 59 60 61 62 63 64 65 66 67 68 69 70 71 72 73 74 75 76 77 78 79 80 81 82 83 84 85 86 87 88 89 90 91 92 93 94 95 96 97 98 99 100 101 102 103 104 105 106 107 108 109 110 111 112 113 114 115 116 117 118 119 "
     ]
    }
   ],
   "source": [
    "from sklearn.neighbors import KNeighborsClassifier\n",
    "\n",
    "train_x, test_x, train_y, test_y = train_test_split(x_vector, y, test_size=0.2, random_state= 0xDEADBEEF)\n",
    "\n",
    "accu = []\n",
    "for k in range(1, 120):\n",
    "    print(k, end=' ')\n",
    "    KNN = KNeighborsClassifier(n_neighbors= k)\n",
    "    output = KNN.fit(train_x , train_y)\n",
    "    y_pred = KNN.predict(test_x)\n",
    "    accuracy = accuracy_score(test_y , y_pred)\n",
    "    #print(\"the result for neighbours : \" ,k)\n",
    "    #print(accuracy)\n",
    "    #print('_________________________________')\n",
    "    accu.append(accuracy)"
   ]
  },
  {
   "cell_type": "code",
   "execution_count": 143,
   "id": "ebe13b10",
   "metadata": {
    "collapsed": true
   },
   "outputs": [
    {
     "data": {
      "text/plain": [
       "[0.4254207777132908,\n",
       " 0.418165989553105,\n",
       " 0.4245502031340685,\n",
       " 0.5800928612884504,\n",
       " 0.5850261172373766,\n",
       " 0.5861868833430064,\n",
       " 0.5847359257109692,\n",
       " 0.5850261172373766,\n",
       " 0.5856065002901916,\n",
       " 0.5856065002901916,\n",
       " 0.5856065002901916,\n",
       " 0.5856065002901916,\n",
       " 0.5856065002901916,\n",
       " 0.5856065002901916,\n",
       " 0.5856065002901916,\n",
       " 0.5856065002901916,\n",
       " 0.5856065002901916,\n",
       " 0.6334881021474172,\n",
       " 0.6247823563551944,\n",
       " 0.671793383633198,\n",
       " 0.6587347649448636,\n",
       " 0.6909460243760882,\n",
       " 0.6790481717933836,\n",
       " 0.7071967498549042,\n",
       " 0.696169471851422,\n",
       " 0.7208357515960534,\n",
       " 0.7112594312246082,\n",
       " 0.7330237957051654,\n",
       " 0.7208357515960534,\n",
       " 0.7376668601276842,\n",
       " 0.7251886244921648,\n",
       " 0.7452118398142774,\n",
       " 0.7338943702843876,\n",
       " 0.7513058618688334,\n",
       " 0.7437608821822402,\n",
       " 0.7568195008705746,\n",
       " 0.7484039466047592,\n",
       " 0.7605919907138712,\n",
       " 0.7501450957632038,\n",
       " 0.7597214161346488,\n",
       " 0.75507835171213,\n",
       " 0.7669762042948346,\n",
       " 0.7585606500290192,\n",
       " 0.7701683110853164,\n",
       " 0.7637840975043528,\n",
       " 0.7704585026117238,\n",
       " 0.7678467788740568,\n",
       " 0.7797446314567614,\n",
       " 0.7721996517701684,\n",
       " 0.7811955890887986,\n",
       " 0.7739408009286128,\n",
       " 0.7840975043528728,\n",
       " 0.7806152060359838,\n",
       " 0.7861288450377248,\n",
       " 0.7809053975623912,\n",
       " 0.7849680789320952,\n",
       " 0.7823563551944284,\n",
       " 0.7872896111433546,\n",
       " 0.7838073128264654,\n",
       " 0.7907719094602438,\n",
       " 0.7843876958792804,\n",
       " 0.7872896111433546,\n",
       " 0.783517121300058,\n",
       " 0.790191526407429,\n",
       " 0.7840975043528728,\n",
       " 0.789611143354614,\n",
       " 0.7861288450377248,\n",
       " 0.7919326755658734,\n",
       " 0.7843876958792804,\n",
       " 0.7910621009866512,\n",
       " 0.7884503772489844,\n",
       " 0.7933836331979106,\n",
       " 0.7893209518282066,\n",
       " 0.794254207777133,\n",
       " 0.7913522925130586,\n",
       " 0.7951247823563552,\n",
       " 0.789611143354614,\n",
       " 0.7974463145676146,\n",
       " 0.793673824724318,\n",
       " 0.7986070806732444,\n",
       " 0.798316889146837,\n",
       " 0.8009286128845038,\n",
       " 0.79570516540917,\n",
       " 0.8006384213580964,\n",
       " 0.7980266976204294,\n",
       " 0.8009286128845038,\n",
       " 0.797736506094022,\n",
       " 0.8041207196749854,\n",
       " 0.7988972721996518,\n",
       " 0.8000580383052814,\n",
       " 0.7965757399883924,\n",
       " 0.802379570516541,\n",
       " 0.799767846778874,\n",
       " 0.8067324434126524,\n",
       " 0.8006384213580964,\n",
       " 0.8052814857806152,\n",
       " 0.8020893789901334,\n",
       " 0.8055716773070226,\n",
       " 0.8006384213580964,\n",
       " 0.802379570516541,\n",
       " 0.8006384213580964,\n",
       " 0.8049912942542078,\n",
       " 0.8006384213580964,\n",
       " 0.8041207196749854,\n",
       " 0.8035403366221706,\n",
       " 0.80586186883343,\n",
       " 0.8035403366221706,\n",
       " 0.806442251886245,\n",
       " 0.8029599535693558,\n",
       " 0.8067324434126524,\n",
       " 0.8047011027278004,\n",
       " 0.807893209518282,\n",
       " 0.80586186883343,\n",
       " 0.8073128264654672,\n",
       " 0.8035403366221706,\n",
       " 0.8052814857806152,\n",
       " 0.8035403366221706,\n",
       " 0.806442251886245,\n",
       " 0.803830528148578]"
      ]
     },
     "execution_count": 143,
     "metadata": {},
     "output_type": "execute_result"
    }
   ],
   "source": [
    "accu"
   ]
  },
  {
   "cell_type": "code",
   "execution_count": 129,
   "id": "ae5d104b",
   "metadata": {},
   "outputs": [
    {
     "name": "stdout",
     "output_type": "stream",
     "text": [
      "max of accuracy =  0.807893209518282\n",
      "112\n"
     ]
    }
   ],
   "source": [
    "print (\"max of accuracy = \" , max(accu))\n",
    "max_value = max(accu)\n",
    "max_index = accu.index(max_value) + 1\n",
    "print(max_index)"
   ]
  },
  {
   "cell_type": "code",
   "execution_count": 136,
   "id": "55ed38a3",
   "metadata": {
    "scrolled": true
   },
   "outputs": [
    {
     "data": {
      "text/plain": [
       "(3446, 10000)"
      ]
     },
     "execution_count": 136,
     "metadata": {},
     "output_type": "execute_result"
    }
   ],
   "source": [
    "test_x.shape"
   ]
  },
  {
   "cell_type": "code",
   "execution_count": 144,
   "id": "f45e1ff9",
   "metadata": {},
   "outputs": [],
   "source": [
    "KNN = KNeighborsClassifier(n_neighbors=  91)\n",
    "output = KNN.fit(train_x , train_y)\n",
    "y_pred = output.predict(test_x)"
   ]
  },
  {
   "cell_type": "code",
   "execution_count": 146,
   "id": "411b18c7",
   "metadata": {},
   "outputs": [
    {
     "name": "stdout",
     "output_type": "stream",
     "text": [
      "0.7965757399883924\n",
      "0.9385530227948464\n",
      "0.7664912990692028\n",
      "0.8438404989975495\n"
     ]
    }
   ],
   "source": [
    "\n",
    "y_pred = output.predict(test_x)\n",
    "\n",
    "print(accuracy_score(y_pred , test_y))\n",
    "print(precision_score(y_pred , test_y))\n",
    "print(recall_score(y_pred , test_y))\n",
    "print(f1_score(y_pred , test_y))"
   ]
  },
  {
   "cell_type": "markdown",
   "id": "cca87c15",
   "metadata": {},
   "source": [
    "# KNN with original length and without stopword removal"
   ]
  },
  {
   "cell_type": "code",
   "execution_count": 147,
   "id": "c3bb21ad",
   "metadata": {},
   "outputs": [],
   "source": [
    "from sklearn.feature_extraction.text import CountVectorizer\n",
    "from sklearn.feature_extraction.text import TfidfVectorizer\n",
    "from sklearn.model_selection import train_test_split\n",
    "from nltk.corpus import stopwords\n",
    "\n",
    "\n",
    "vectorizer = TfidfVectorizer( max_features=10000, ngram_range=(1,2), min_df = 3)\n",
    "\n",
    "\n",
    "x_vector = vectorizer.fit_transform(x);"
   ]
  },
  {
   "cell_type": "code",
   "execution_count": 148,
   "id": "03dff5f0",
   "metadata": {},
   "outputs": [
    {
     "name": "stdout",
     "output_type": "stream",
     "text": [
      "1 2 3 4 5 6 7 8 9 10 11 12 13 14 15 16 17 18 19 20 21 22 23 24 25 26 27 28 29 30 31 32 33 34 35 36 37 38 39 40 41 42 43 44 45 46 47 48 49 50 51 52 53 54 55 56 57 58 59 60 61 62 63 64 65 66 67 68 69 70 71 72 73 74 75 76 77 78 79 80 81 82 83 84 85 86 87 88 89 90 91 92 93 94 95 96 97 98 99 100 101 102 103 104 105 106 107 108 109 110 111 112 113 114 115 116 117 118 119 "
     ]
    }
   ],
   "source": [
    "from sklearn.neighbors import KNeighborsClassifier\n",
    "\n",
    "train_x, test_x, train_y, test_y = train_test_split(x_vector, y, test_size=0.2, random_state= 0xDEADBEEF)\n",
    "\n",
    "accu = []\n",
    "for k in range(1, 120):\n",
    "    print(k, end=' ')\n",
    "    KNN = KNeighborsClassifier(n_neighbors= k)\n",
    "    output = KNN.fit(train_x , train_y)\n",
    "    y_pred = KNN.predict(test_x)\n",
    "    accuracy = accuracy_score(test_y , y_pred)\n",
    "    #print(\"the result for neighbours : \" ,k)\n",
    "    #print(accuracy)\n",
    "    #print('_________________________________')\n",
    "    accu.append(accuracy)"
   ]
  },
  {
   "cell_type": "code",
   "execution_count": 150,
   "id": "9f710f4b",
   "metadata": {},
   "outputs": [
    {
     "data": {
      "text/plain": [
       "[0.4239698200812536,\n",
       " 0.4170052234474753,\n",
       " 0.4175856065002902,\n",
       " 0.542658154381892,\n",
       " 0.5734184561810796,\n",
       " 0.5623911781775972,\n",
       " 0.585896691816599,\n",
       " 0.5870574579222286,\n",
       " 0.585316308763784,\n",
       " 0.585316308763784,\n",
       " 0.585316308763784,\n",
       " 0.585316308763784,\n",
       " 0.5856065002901916,\n",
       " 0.6735345327916424,\n",
       " 0.6593151479976784,\n",
       " 0.7217063261752756,\n",
       " 0.7048752176436448,\n",
       " 0.7370864770748694,\n",
       " 0.7260591990713872,\n",
       " 0.7547881601857226,\n",
       " 0.7426001160766106,\n",
       " 0.7666860127684272,\n",
       " 0.7533372025536854,\n",
       " 0.7742309924550204,\n",
       " 0.7675565873476494,\n",
       " 0.7782936738247244,\n",
       " 0.7681369704004644,\n",
       " 0.7806152060359838,\n",
       " 0.777423099245502,\n",
       " 0.783517121300058,\n",
       " 0.777423099245502,\n",
       " 0.7893209518282066,\n",
       " 0.7858386535113174,\n",
       " 0.791642484039466,\n",
       " 0.792222867092281,\n",
       " 0.7954149738827626,\n",
       " 0.790191526407429,\n",
       " 0.7945443993035404,\n",
       " 0.7939640162507254,\n",
       " 0.7945443993035404,\n",
       " 0.794254207777133,\n",
       " 0.7994776552524666,\n",
       " 0.7988972721996518,\n",
       " 0.7994776552524666,\n",
       " 0.79570516540917,\n",
       " 0.7988972721996518,\n",
       " 0.798316889146837,\n",
       " 0.8026697620429484,\n",
       " 0.8029599535693558,\n",
       " 0.8032501450957632,\n",
       " 0.8015089959373186,\n",
       " 0.8035403366221706,\n",
       " 0.8026697620429484,\n",
       " 0.801799187463726,\n",
       " 0.801799187463726,\n",
       " 0.8067324434126524,\n",
       " 0.8047011027278004,\n",
       " 0.8049912942542078,\n",
       " 0.803830528148578,\n",
       " 0.8015089959373186,\n",
       " 0.804410911201393,\n",
       " 0.806442251886245,\n",
       " 0.8081834010446894,\n",
       " 0.8073128264654672,\n",
       " 0.8073128264654672,\n",
       " 0.80586186883343,\n",
       " 0.8049912942542078,\n",
       " 0.8055716773070226,\n",
       " 0.8047011027278004,\n",
       " 0.803830528148578,\n",
       " 0.8035403366221706,\n",
       " 0.8032501450957632,\n",
       " 0.800348229831689,\n",
       " 0.8041207196749854,\n",
       " 0.804410911201393,\n",
       " 0.804410911201393,\n",
       " 0.803830528148578,\n",
       " 0.8052814857806152,\n",
       " 0.8029599535693558,\n",
       " 0.8052814857806152,\n",
       " 0.8052814857806152,\n",
       " 0.802379570516541,\n",
       " 0.800348229831689,\n",
       " 0.8000580383052814,\n",
       " 0.802379570516541,\n",
       " 0.8052814857806152,\n",
       " 0.8032501450957632,\n",
       " 0.803830528148578,\n",
       " 0.80586186883343,\n",
       " 0.8070226349390598,\n",
       " 0.8055716773070226,\n",
       " 0.8061520603598374,\n",
       " 0.80586186883343,\n",
       " 0.8107951247823564,\n",
       " 0.807893209518282,\n",
       " 0.8087637840975044,\n",
       " 0.807893209518282,\n",
       " 0.8107951247823564,\n",
       " 0.8076030179918746,\n",
       " 0.8087637840975044,\n",
       " 0.8090539756239118,\n",
       " 0.8102147417295414,\n",
       " 0.8070226349390598,\n",
       " 0.8107951247823564,\n",
       " 0.806442251886245,\n",
       " 0.8081834010446894,\n",
       " 0.8076030179918746,\n",
       " 0.8096343586767266,\n",
       " 0.8096343586767266,\n",
       " 0.8096343586767266,\n",
       " 0.8090539756239118,\n",
       " 0.8090539756239118,\n",
       " 0.8067324434126524,\n",
       " 0.8090539756239118,\n",
       " 0.807893209518282,\n",
       " 0.807893209518282,\n",
       " 0.8107951247823564,\n",
       " 0.8113755078351712,\n",
       " 0.8093441671503192]"
      ]
     },
     "execution_count": 150,
     "metadata": {},
     "output_type": "execute_result"
    }
   ],
   "source": [
    "accu"
   ]
  },
  {
   "cell_type": "code",
   "execution_count": 154,
   "id": "2d428c1b",
   "metadata": {},
   "outputs": [
    {
     "name": "stdout",
     "output_type": "stream",
     "text": [
      "max of accuracy =  0.8113755078351712\n",
      "118\n"
     ]
    }
   ],
   "source": [
    "print (\"max of accuracy = \" , max(accu))\n",
    "max_value = max(accu)\n",
    "max_index = accu.index(max_value) + 1\n",
    "print(max_index)"
   ]
  },
  {
   "cell_type": "code",
   "execution_count": 157,
   "id": "12444fcf",
   "metadata": {},
   "outputs": [],
   "source": [
    "KNN = KNeighborsClassifier(n_neighbors=  118)\n",
    "output = KNN.fit(train_x , train_y)\n",
    "y_pred = output.predict(test_x)"
   ]
  },
  {
   "cell_type": "code",
   "execution_count": 158,
   "id": "78fd2825",
   "metadata": {},
   "outputs": [
    {
     "name": "stdout",
     "output_type": "stream",
     "text": [
      "0.8113755078351712\n",
      "0.865213082259663\n",
      "0.8220338983050848\n",
      "0.8430709802028007\n"
     ]
    }
   ],
   "source": [
    "y_pred = output.predict(test_x)\n",
    "\n",
    "print(accuracy_score(y_pred , test_y))\n",
    "print(precision_score(y_pred , test_y))\n",
    "print(recall_score(y_pred , test_y))\n",
    "print(f1_score(y_pred , test_y))"
   ]
  },
  {
   "cell_type": "markdown",
   "id": "66439857",
   "metadata": {},
   "source": [
    "# naive_bayes with original length and stopword removal"
   ]
  },
  {
   "cell_type": "code",
   "execution_count": 106,
   "id": "59e4824d",
   "metadata": {},
   "outputs": [],
   "source": [
    "from sklearn.feature_extraction.text import CountVectorizer\n",
    "from sklearn.feature_extraction.text import TfidfVectorizer\n",
    "from sklearn.model_selection import train_test_split\n",
    "from nltk.corpus import stopwords\n",
    "ntlkStopWords = list(stopwords.words('english'))\n",
    "\n",
    "vectorizer = TfidfVectorizer(stop_words=ntlkStopWords, max_features=10000, ngram_range=(1,2), min_df = 3)\n",
    "\n",
    "\n",
    "x_vector = vectorizer.fit_transform(x);"
   ]
  },
  {
   "cell_type": "code",
   "execution_count": 107,
   "id": "103bd180",
   "metadata": {},
   "outputs": [
    {
     "name": "stdout",
     "output_type": "stream",
     "text": [
      "Multinomial Naive Bayes (No pre-processing): 85.5194428322693 %\n"
     ]
    }
   ],
   "source": [
    "from sklearn.naive_bayes import MultinomialNB\n",
    "\n",
    "train_x, test_x, train_y, test_y = train_test_split(x_vector, y, test_size=0.2, random_state= 0xDEADBEEF)\n",
    "\n",
    "mnb = MultinomialNB()\n",
    "mnb.fit(train_x, train_y)\n",
    "print(\"Multinomial Naive Bayes (No pre-processing): {0} %\".format(mnb.score(test_x, test_y) * 100))"
   ]
  },
  {
   "cell_type": "code",
   "execution_count": 108,
   "id": "cb0c6303",
   "metadata": {},
   "outputs": [
    {
     "name": "stdout",
     "output_type": "stream",
     "text": [
      "0.855194428322693\n",
      "0.8929633300297324\n",
      "0.8642685851318945\n",
      "0.8783816719473556\n"
     ]
    }
   ],
   "source": [
    "\n",
    "y_pred = mnb.predict(test_x)\n",
    "\n",
    "print(accuracy_score(y_pred , test_y))\n",
    "print(precision_score(y_pred , test_y))\n",
    "print(recall_score(y_pred , test_y))\n",
    "print(f1_score(y_pred , test_y))"
   ]
  },
  {
   "cell_type": "code",
   "execution_count": null,
   "id": "8abe7671",
   "metadata": {},
   "outputs": [],
   "source": []
  },
  {
   "cell_type": "markdown",
   "id": "f6c20600",
   "metadata": {},
   "source": [
    "# naive_bayes with Original length and without stopword removal"
   ]
  },
  {
   "cell_type": "code",
   "execution_count": 95,
   "id": "20c2c802",
   "metadata": {},
   "outputs": [],
   "source": [
    "from sklearn.feature_extraction.text import CountVectorizer\n",
    "from sklearn.feature_extraction.text import TfidfVectorizer\n",
    "from sklearn.model_selection import train_test_split\n",
    "\n",
    "vectorizer = TfidfVectorizer( max_features=10000, ngram_range=(1,2), min_df = 3)\n",
    "\n",
    "\n",
    "x_vector = vectorizer.fit_transform(x);"
   ]
  },
  {
   "cell_type": "code",
   "execution_count": 96,
   "id": "931e1ab5",
   "metadata": {},
   "outputs": [
    {
     "name": "stdout",
     "output_type": "stream",
     "text": [
      "Multinomial Naive Bayes (No pre-processing): 86.07080673244342 %\n"
     ]
    }
   ],
   "source": [
    "from sklearn.naive_bayes import MultinomialNB\n",
    "\n",
    "train_x, test_x, train_y, test_y = train_test_split(x_vector, y, test_size=0.2, random_state= 0xDEADBEEF)\n",
    "\n",
    "mnb = MultinomialNB()\n",
    "mnb.fit(train_x, train_y)\n",
    "print(\"Multinomial Naive Bayes (No pre-processing): {0} %\".format(mnb.score(test_x, test_y) * 100))"
   ]
  },
  {
   "cell_type": "code",
   "execution_count": 99,
   "id": "ca16c3c9",
   "metadata": {},
   "outputs": [
    {
     "name": "stdout",
     "output_type": "stream",
     "text": [
      "0.8607080673244342\n",
      "0.8929633300297324\n",
      "0.872216844143272\n",
      "0.8824681684622919\n"
     ]
    }
   ],
   "source": [
    "\n",
    "y_pred = mnb.predict(test_x)\n",
    "\n",
    "print(accuracy_score(y_pred , test_y))\n",
    "print(precision_score(y_pred , test_y))\n",
    "print(recall_score(y_pred , test_y))\n",
    "print(f1_score(y_pred , test_y))"
   ]
  },
  {
   "cell_type": "markdown",
   "id": "9f2b85e1",
   "metadata": {},
   "source": [
    "# naive_bayes with Mean length and stopword removal"
   ]
  },
  {
   "cell_type": "code",
   "execution_count": 100,
   "id": "12267429",
   "metadata": {},
   "outputs": [],
   "source": [
    "ntlkStopWords = list(stopwords.words('english'))\n",
    "\n",
    "vectorizer = TfidfVectorizer(stop_words=ntlkStopWords, max_features=10000, ngram_range=(1,2), min_df = 3)\n",
    "\n",
    "x_vector = vectorizer.fit_transform(x_mean);"
   ]
  },
  {
   "cell_type": "code",
   "execution_count": 101,
   "id": "2c21e8ad",
   "metadata": {},
   "outputs": [
    {
     "name": "stdout",
     "output_type": "stream",
     "text": [
      "Multinomial Naive Bayes (No pre-processing): 84.53279164248404 %\n"
     ]
    }
   ],
   "source": [
    "from sklearn.naive_bayes import MultinomialNB\n",
    "\n",
    "train_x, test_x, train_y, test_y = train_test_split(x_vector, y, test_size=0.2, random_state= 0xDEADBEEF)\n",
    "\n",
    "mnb = MultinomialNB()\n",
    "mnb.fit(train_x, train_y)\n",
    "print(\"Multinomial Naive Bayes (No pre-processing): {0} %\".format(mnb.score(test_x, test_y) * 100))"
   ]
  },
  {
   "cell_type": "code",
   "execution_count": 102,
   "id": "98ea8e4a",
   "metadata": {},
   "outputs": [
    {
     "name": "stdout",
     "output_type": "stream",
     "text": [
      "0.8453279164248404\n",
      "0.8885034687809713\n",
      "0.8534031413612565\n",
      "0.8705996601116777\n"
     ]
    }
   ],
   "source": [
    "\n",
    "y_pred = mnb.predict(test_x)\n",
    "\n",
    "print(accuracy_score(y_pred , test_y))\n",
    "print(precision_score(y_pred , test_y))\n",
    "print(recall_score(y_pred , test_y))\n",
    "print(f1_score(y_pred , test_y))"
   ]
  },
  {
   "cell_type": "markdown",
   "id": "8e4a84d2",
   "metadata": {},
   "source": [
    "# naive_bayes with Mean length and without stopword removal"
   ]
  },
  {
   "cell_type": "code",
   "execution_count": 103,
   "id": "5b66c01f",
   "metadata": {},
   "outputs": [],
   "source": [
    "from sklearn.feature_extraction.text import CountVectorizer\n",
    "from sklearn.feature_extraction.text import TfidfVectorizer\n",
    "from sklearn.model_selection import train_test_split\n",
    "\n",
    "\n",
    "vectorizer = TfidfVectorizer(max_features=10000, ngram_range=(1,2), min_df = 3)\n",
    "\n",
    "\n",
    "x_vector = vectorizer.fit_transform(x_mean);"
   ]
  },
  {
   "cell_type": "code",
   "execution_count": 104,
   "id": "048894f6",
   "metadata": {},
   "outputs": [
    {
     "name": "stdout",
     "output_type": "stream",
     "text": [
      "Multinomial Naive Bayes (No pre-processing): 85.69355774811376 %\n"
     ]
    }
   ],
   "source": [
    "from sklearn.naive_bayes import MultinomialNB\n",
    "\n",
    "train_x, test_x, train_y, test_y = train_test_split(x_vector, y, test_size=0.2, random_state= 0xDEADBEEF)\n",
    "\n",
    "mnb = MultinomialNB()\n",
    "mnb.fit(train_x, train_y)\n",
    "print(\"Multinomial Naive Bayes (No pre-processing): {0} %\".format(mnb.score(test_x, test_y) * 100))"
   ]
  },
  {
   "cell_type": "code",
   "execution_count": 105,
   "id": "9bd97567",
   "metadata": {},
   "outputs": [
    {
     "name": "stdout",
     "output_type": "stream",
     "text": [
      "0.8569355774811376\n",
      "0.8919722497522299\n",
      "0.8674698795180723\n",
      "0.8795504519912045\n"
     ]
    }
   ],
   "source": [
    "\n",
    "y_pred = mnb.predict(test_x)\n",
    "\n",
    "print(accuracy_score(y_pred , test_y))\n",
    "print(precision_score(y_pred , test_y))\n",
    "print(recall_score(y_pred , test_y))\n",
    "print(f1_score(y_pred , test_y))"
   ]
  },
  {
   "cell_type": "code",
   "execution_count": null,
   "id": "674fd385",
   "metadata": {},
   "outputs": [],
   "source": []
  },
  {
   "cell_type": "markdown",
   "id": "34f46713",
   "metadata": {},
   "source": [
    "# SVC with Original length and  stopword removal"
   ]
  },
  {
   "cell_type": "code",
   "execution_count": 178,
   "id": "e23a4fa0",
   "metadata": {},
   "outputs": [],
   "source": [
    "from sklearn.feature_extraction.text import CountVectorizer\n",
    "from sklearn.feature_extraction.text import TfidfVectorizer\n",
    "from sklearn.model_selection import train_test_split\n",
    "from nltk.corpus import stopwords\n",
    "ntlkStopWords = list(stopwords.words('english'))\n",
    "\n",
    "vectorizer = TfidfVectorizer(stop_words=ntlkStopWords, max_features=10000, ngram_range=(1,2), min_df = 3)\n",
    "\n",
    "\n",
    "x_vector = vectorizer.fit_transform(x);"
   ]
  },
  {
   "cell_type": "code",
   "execution_count": 179,
   "id": "2995c0fc",
   "metadata": {},
   "outputs": [
    {
     "data": {
      "text/plain": [
       "SVC()"
      ]
     },
     "execution_count": 179,
     "metadata": {},
     "output_type": "execute_result"
    }
   ],
   "source": [
    "train_x, test_x, train_y, test_y = train_test_split(x_vector, y, test_size=0.2, random_state= 0xDEADBEEF)\n",
    "\n",
    "from sklearn.svm import SVC\n",
    "\n",
    "clf = SVC(kernel='rbf')\n",
    "\n",
    "clf.fit(train_x, train_y)\n"
   ]
  },
  {
   "cell_type": "code",
   "execution_count": 180,
   "id": "e4184239",
   "metadata": {},
   "outputs": [
    {
     "name": "stdout",
     "output_type": "stream",
     "text": [
      "0.8569355774811376\n",
      "0.8810703666997026\n",
      "0.8754308222550468\n",
      "0.8782415411212645\n"
     ]
    }
   ],
   "source": [
    "\n",
    "y_pred = clf.predict(test_x)\n",
    "\n",
    "print(accuracy_score(y_pred , test_y))\n",
    "print(precision_score(y_pred , test_y))\n",
    "print(recall_score(y_pred , test_y))\n",
    "print(f1_score(y_pred , test_y))"
   ]
  },
  {
   "cell_type": "markdown",
   "id": "90fa8cd4",
   "metadata": {},
   "source": [
    "# SVC with Original length and without stopword removal"
   ]
  },
  {
   "cell_type": "code",
   "execution_count": 181,
   "id": "7179f20f",
   "metadata": {},
   "outputs": [],
   "source": [
    "from sklearn.feature_extraction.text import CountVectorizer\n",
    "from sklearn.feature_extraction.text import TfidfVectorizer\n",
    "from sklearn.model_selection import train_test_split\n",
    "\n",
    "\n",
    "vectorizer = TfidfVectorizer( max_features=10000, ngram_range=(1,2), min_df = 3)\n",
    "\n",
    "\n",
    "x_vector = vectorizer.fit_transform(x);"
   ]
  },
  {
   "cell_type": "code",
   "execution_count": 182,
   "id": "82f80c56",
   "metadata": {},
   "outputs": [
    {
     "data": {
      "text/plain": [
       "SVC()"
      ]
     },
     "execution_count": 182,
     "metadata": {},
     "output_type": "execute_result"
    }
   ],
   "source": [
    "train_x, test_x, train_y, test_y = train_test_split(x_vector, y, test_size=0.2, random_state= 0xDEADBEEF)\n",
    "\n",
    "\n",
    "from sklearn.svm import SVC\n",
    "\n",
    "clf = SVC(kernel='rbf')\n",
    "\n",
    "\n",
    "clf.fit(train_x, train_y)\n",
    "\n"
   ]
  },
  {
   "cell_type": "code",
   "execution_count": 183,
   "id": "fc29127c",
   "metadata": {},
   "outputs": [
    {
     "name": "stdout",
     "output_type": "stream",
     "text": [
      "0.8746372605919908\n",
      "0.8944499504459861\n",
      "0.891798418972332\n",
      "0.8931222167243938\n"
     ]
    }
   ],
   "source": [
    "\n",
    "y_pred = clf.predict(test_x)\n",
    "\n",
    "print(accuracy_score(y_pred , test_y))\n",
    "print(precision_score(y_pred , test_y))\n",
    "print(recall_score(y_pred , test_y))\n",
    "print(f1_score(y_pred , test_y))"
   ]
  },
  {
   "cell_type": "markdown",
   "id": "c5ae8e27",
   "metadata": {},
   "source": [
    "# SVC with mean length and stopword removal"
   ]
  },
  {
   "cell_type": "code",
   "execution_count": 184,
   "id": "7e5d53d2",
   "metadata": {},
   "outputs": [],
   "source": [
    "from sklearn.feature_extraction.text import CountVectorizer\n",
    "from sklearn.feature_extraction.text import TfidfVectorizer\n",
    "from sklearn.model_selection import train_test_split\n",
    "from nltk.corpus import stopwords\n",
    "ntlkStopWords = list(stopwords.words('english'))\n",
    "\n",
    "vectorizer = TfidfVectorizer(stop_words=ntlkStopWords, max_features=10000, ngram_range=(1,2), min_df = 3)\n",
    "\n",
    "\n",
    "x_vector = vectorizer.fit_transform(x_mean);"
   ]
  },
  {
   "cell_type": "code",
   "execution_count": 185,
   "id": "6c91c377",
   "metadata": {},
   "outputs": [
    {
     "data": {
      "text/plain": [
       "SVC()"
      ]
     },
     "execution_count": 185,
     "metadata": {},
     "output_type": "execute_result"
    }
   ],
   "source": [
    "train_x, test_x, train_y, test_y = train_test_split(x_vector, y, test_size=0.2, random_state= 0xDEADBEEF)\n",
    "\n",
    "from sklearn.svm import SVC\n",
    "\n",
    "clf = SVC(kernel='rbf')\n",
    "\n",
    "clf.fit(train_x, train_y)\n"
   ]
  },
  {
   "cell_type": "code",
   "execution_count": 186,
   "id": "f9980312",
   "metadata": {},
   "outputs": [
    {
     "name": "stdout",
     "output_type": "stream",
     "text": [
      "0.8528728961114336\n",
      "0.8875123885034688\n",
      "0.864799613713182\n",
      "0.8760088041085841\n"
     ]
    }
   ],
   "source": [
    "y_pred = clf.predict(test_x)\n",
    "\n",
    "print(accuracy_score(y_pred , test_y))\n",
    "print(precision_score(y_pred , test_y))\n",
    "print(recall_score(y_pred , test_y))\n",
    "print(f1_score(y_pred , test_y))"
   ]
  },
  {
   "cell_type": "markdown",
   "id": "0b01228d",
   "metadata": {},
   "source": [
    "# XGBOOST with original length and stopword removal"
   ]
  },
  {
   "cell_type": "code",
   "execution_count": 189,
   "id": "9565be13",
   "metadata": {},
   "outputs": [],
   "source": [
    "from sklearn.feature_extraction.text import CountVectorizer\n",
    "from sklearn.feature_extraction.text import TfidfVectorizer\n",
    "from sklearn.model_selection import train_test_split\n",
    "from nltk.corpus import stopwords\n",
    "ntlkStopWords = list(stopwords.words('english'))\n",
    "\n",
    "vectorizer = TfidfVectorizer(stop_words=ntlkStopWords, max_features=10000, ngram_range=(1,2), min_df = 3)\n",
    "\n",
    "\n",
    "x_vector = vectorizer.fit_transform(x);\n",
    "\n",
    "\n",
    "\n"
   ]
  },
  {
   "cell_type": "code",
   "execution_count": 191,
   "id": "b2500cad",
   "metadata": {},
   "outputs": [
    {
     "data": {
      "text/plain": [
       "XGBClassifier(base_score=None, booster=None, callbacks=None,\n",
       "              colsample_bylevel=None, colsample_bynode=None,\n",
       "              colsample_bytree=None, device=None, early_stopping_rounds=None,\n",
       "              enable_categorical=False, eval_metric=None, feature_types=None,\n",
       "              gamma=None, grow_policy=None, importance_type=None,\n",
       "              interaction_constraints=None, learning_rate=None, max_bin=None,\n",
       "              max_cat_threshold=None, max_cat_to_onehot=None,\n",
       "              max_delta_step=None, max_depth=None, max_leaves=None,\n",
       "              min_child_weight=None, missing=nan, monotone_constraints=None,\n",
       "              multi_strategy=None, n_estimators=None, n_jobs=None,\n",
       "              num_parallel_tree=None, random_state=None, ...)"
      ]
     },
     "execution_count": 191,
     "metadata": {},
     "output_type": "execute_result"
    }
   ],
   "source": [
    "train_x, test_x, train_y, test_y = train_test_split(x_vector, y, test_size=0.2, random_state= 0xDEADBEEF)\n",
    "import xgboost as xgb\n",
    "model = xgb.XGBClassifier()\n",
    "model.fit(train_x, train_y)\n"
   ]
  },
  {
   "cell_type": "code",
   "execution_count": 192,
   "id": "0943dfb9",
   "metadata": {},
   "outputs": [
    {
     "name": "stdout",
     "output_type": "stream",
     "text": [
      "0.8197910621009866\n",
      "0.8553022794846382\n",
      "0.8399026763990267\n",
      "0.8475325313037073\n"
     ]
    }
   ],
   "source": [
    "y_pred = model.predict(test_x)\n",
    "print(accuracy_score(y_pred , test_y))\n",
    "print(precision_score(y_pred , test_y))\n",
    "print(recall_score(y_pred , test_y))\n",
    "print(f1_score(y_pred , test_y))"
   ]
  },
  {
   "cell_type": "markdown",
   "id": "1f60ce1c",
   "metadata": {},
   "source": [
    "# XGBOOST with original length without stopword removal"
   ]
  },
  {
   "cell_type": "code",
   "execution_count": 193,
   "id": "5ad6efd9",
   "metadata": {},
   "outputs": [],
   "source": [
    "from sklearn.feature_extraction.text import CountVectorizer\n",
    "from sklearn.feature_extraction.text import TfidfVectorizer\n",
    "from sklearn.model_selection import train_test_split\n",
    "from nltk.corpus import stopwords\n",
    "\n",
    "\n",
    "vectorizer = TfidfVectorizer( max_features=10000, ngram_range=(1,2), min_df = 3)\n",
    "\n",
    "\n",
    "x_vector = vectorizer.fit_transform(x);"
   ]
  },
  {
   "cell_type": "code",
   "execution_count": 194,
   "id": "c7a0e6f1",
   "metadata": {},
   "outputs": [
    {
     "data": {
      "text/plain": [
       "XGBClassifier(base_score=None, booster=None, callbacks=None,\n",
       "              colsample_bylevel=None, colsample_bynode=None,\n",
       "              colsample_bytree=None, device=None, early_stopping_rounds=None,\n",
       "              enable_categorical=False, eval_metric=None, feature_types=None,\n",
       "              gamma=None, grow_policy=None, importance_type=None,\n",
       "              interaction_constraints=None, learning_rate=None, max_bin=None,\n",
       "              max_cat_threshold=None, max_cat_to_onehot=None,\n",
       "              max_delta_step=None, max_depth=None, max_leaves=None,\n",
       "              min_child_weight=None, missing=nan, monotone_constraints=None,\n",
       "              multi_strategy=None, n_estimators=None, n_jobs=None,\n",
       "              num_parallel_tree=None, random_state=None, ...)"
      ]
     },
     "execution_count": 194,
     "metadata": {},
     "output_type": "execute_result"
    }
   ],
   "source": [
    "train_x, test_x, train_y, test_y = train_test_split(x_vector, y, test_size=0.2, random_state= 0xDEADBEEF)\n",
    "import xgboost as xgb\n",
    "model = xgb.XGBClassifier()\n",
    "model.fit(train_x, train_y)"
   ]
  },
  {
   "cell_type": "code",
   "execution_count": 195,
   "id": "d9ca7505",
   "metadata": {},
   "outputs": [
    {
     "name": "stdout",
     "output_type": "stream",
     "text": [
      "0.8345908299477656\n",
      "0.8686818632309217\n",
      "0.8517978620019436\n",
      "0.8601570166830225\n"
     ]
    }
   ],
   "source": [
    "y_pred = model.predict(test_x)\n",
    "print(accuracy_score(y_pred , test_y))\n",
    "print(precision_score(y_pred , test_y))\n",
    "print(recall_score(y_pred , test_y))\n",
    "print(f1_score(y_pred , test_y))"
   ]
  },
  {
   "cell_type": "markdown",
   "id": "6fc1caed",
   "metadata": {},
   "source": [
    "# XGBOOST with mean length and stopword removal"
   ]
  },
  {
   "cell_type": "code",
   "execution_count": 196,
   "id": "02f36236",
   "metadata": {},
   "outputs": [],
   "source": [
    "from sklearn.feature_extraction.text import CountVectorizer\n",
    "from sklearn.feature_extraction.text import TfidfVectorizer\n",
    "from sklearn.model_selection import train_test_split\n",
    "from nltk.corpus import stopwords\n",
    "ntlkStopWords = list(stopwords.words('english'))\n",
    "\n",
    "vectorizer = TfidfVectorizer(stop_words=ntlkStopWords, max_features=10000, ngram_range=(1,2), min_df = 3)\n",
    "\n",
    "\n",
    "x_vector = vectorizer.fit_transform(x_mean);\n"
   ]
  },
  {
   "cell_type": "code",
   "execution_count": 197,
   "id": "66f7a14d",
   "metadata": {},
   "outputs": [
    {
     "data": {
      "text/plain": [
       "XGBClassifier(base_score=None, booster=None, callbacks=None,\n",
       "              colsample_bylevel=None, colsample_bynode=None,\n",
       "              colsample_bytree=None, device=None, early_stopping_rounds=None,\n",
       "              enable_categorical=False, eval_metric=None, feature_types=None,\n",
       "              gamma=None, grow_policy=None, importance_type=None,\n",
       "              interaction_constraints=None, learning_rate=None, max_bin=None,\n",
       "              max_cat_threshold=None, max_cat_to_onehot=None,\n",
       "              max_delta_step=None, max_depth=None, max_leaves=None,\n",
       "              min_child_weight=None, missing=nan, monotone_constraints=None,\n",
       "              multi_strategy=None, n_estimators=None, n_jobs=None,\n",
       "              num_parallel_tree=None, random_state=None, ...)"
      ]
     },
     "execution_count": 197,
     "metadata": {},
     "output_type": "execute_result"
    }
   ],
   "source": [
    "train_x, test_x, train_y, test_y = train_test_split(x_vector, y, test_size=0.2, random_state= 0xDEADBEEF)\n",
    "import xgboost as xgb\n",
    "model = xgb.XGBClassifier()\n",
    "model.fit(train_x, train_y)\n"
   ]
  },
  {
   "cell_type": "code",
   "execution_count": 198,
   "id": "4a9513a3",
   "metadata": {},
   "outputs": [
    {
     "name": "stdout",
     "output_type": "stream",
     "text": [
      "0.810504933255949\n",
      "0.8612487611496531\n",
      "0.8233064898152535\n",
      "0.8418503269556793\n"
     ]
    }
   ],
   "source": [
    "y_pred = model.predict(test_x)\n",
    "print(accuracy_score(y_pred , test_y))\n",
    "print(precision_score(y_pred , test_y))\n",
    "print(recall_score(y_pred , test_y))\n",
    "print(f1_score(y_pred , test_y))"
   ]
  },
  {
   "cell_type": "code",
   "execution_count": null,
   "id": "357d9059",
   "metadata": {},
   "outputs": [],
   "source": []
  },
  {
   "cell_type": "code",
   "execution_count": null,
   "id": "3fcf8150",
   "metadata": {},
   "outputs": [],
   "source": []
  },
  {
   "cell_type": "markdown",
   "id": "fd6796bb",
   "metadata": {},
   "source": [
    "# RandomForest with original length and stopword removal"
   ]
  },
  {
   "cell_type": "code",
   "execution_count": 199,
   "id": "1591e2e5",
   "metadata": {},
   "outputs": [],
   "source": [
    "from sklearn.feature_extraction.text import CountVectorizer\n",
    "from sklearn.feature_extraction.text import TfidfVectorizer\n",
    "from sklearn.model_selection import train_test_split\n",
    "from nltk.corpus import stopwords\n",
    "ntlkStopWords = list(stopwords.words('english'))\n",
    "\n",
    "vectorizer = TfidfVectorizer(stop_words=ntlkStopWords, max_features=10000, ngram_range=(1,2), min_df = 3)\n",
    "\n",
    "\n",
    "x_vector = vectorizer.fit_transform(x);"
   ]
  },
  {
   "cell_type": "code",
   "execution_count": 201,
   "id": "ed9f5d55",
   "metadata": {},
   "outputs": [
    {
     "name": "stdout",
     "output_type": "stream",
     "text": [
      "0.832849680789321\n",
      "0.8825569871159564\n",
      "0.8400943396226415\n",
      "0.8608023199613339\n"
     ]
    }
   ],
   "source": [
    "train_x, test_x, train_y, test_y = train_test_split(x_vector, y, test_size=0.2, random_state= 0xDEADBEEF)\n",
    "\n",
    "from sklearn.ensemble import RandomForestClassifier\n",
    "\n",
    "rf = RandomForestClassifier(n_estimators = 500 , random_state = 42)\n",
    "\n",
    "rf.fit(train_x, train_y)\n",
    "\n",
    "y_pred = rf.predict(test_x)\n",
    "\n",
    "print(accuracy_score(y_pred , test_y))\n",
    "print(precision_score(y_pred , test_y))\n",
    "print(recall_score(y_pred , test_y))\n",
    "print(f1_score(y_pred , test_y))"
   ]
  },
  {
   "cell_type": "code",
   "execution_count": null,
   "id": "8ff18d7c",
   "metadata": {},
   "outputs": [],
   "source": []
  },
  {
   "cell_type": "markdown",
   "id": "6cc3cf64",
   "metadata": {},
   "source": [
    "# RandomForest with original length without stopword removal"
   ]
  },
  {
   "cell_type": "code",
   "execution_count": 204,
   "id": "18e6a251",
   "metadata": {},
   "outputs": [],
   "source": [
    "from sklearn.feature_extraction.text import CountVectorizer\n",
    "from sklearn.feature_extraction.text import TfidfVectorizer\n",
    "from sklearn.model_selection import train_test_split\n",
    "from nltk.corpus import stopwords\n",
    "\n",
    "vectorizer = TfidfVectorizer( max_features=10000, ngram_range=(1,2), min_df = 3)\n",
    "\n",
    "\n",
    "x_vector = vectorizer.fit_transform(x);"
   ]
  },
  {
   "cell_type": "code",
   "execution_count": 205,
   "id": "47d67921",
   "metadata": {},
   "outputs": [
    {
     "name": "stdout",
     "output_type": "stream",
     "text": [
      "0.8418456181079512\n",
      "0.9073339940535183\n",
      "0.836455002284148\n",
      "0.8704540052293795\n"
     ]
    }
   ],
   "source": [
    "train_x, test_x, train_y, test_y = train_test_split(x_vector, y, test_size=0.2, random_state= 0xDEADBEEF)\n",
    "\n",
    "from sklearn.ensemble import RandomForestClassifier\n",
    "\n",
    "rf = RandomForestClassifier(n_estimators = 500 , random_state = 42)\n",
    "\n",
    "rf.fit(train_x, train_y)\n",
    "\n",
    "y_pred = rf.predict(test_x)\n",
    "\n",
    "print(accuracy_score(y_pred , test_y))\n",
    "print(precision_score(y_pred , test_y))\n",
    "print(recall_score(y_pred , test_y))\n",
    "print(f1_score(y_pred , test_y))"
   ]
  },
  {
   "cell_type": "markdown",
   "id": "b0f751b9",
   "metadata": {},
   "source": [
    "# ANN with original length and stopword removal"
   ]
  },
  {
   "cell_type": "code",
   "execution_count": 215,
   "id": "794ecbe2",
   "metadata": {},
   "outputs": [],
   "source": [
    "from sklearn.feature_extraction.text import CountVectorizer\n",
    "from sklearn.feature_extraction.text import TfidfVectorizer\n",
    "from sklearn.model_selection import train_test_split\n",
    "from nltk.corpus import stopwords\n",
    "ntlkStopWords = list(stopwords.words('english'))\n",
    "\n",
    "vectorizer = TfidfVectorizer(stop_words=ntlkStopWords, max_features=10000, ngram_range=(1,2), min_df = 3)\n",
    "\n",
    "\n",
    "x_vector = vectorizer.fit_transform(x);"
   ]
  },
  {
   "cell_type": "code",
   "execution_count": 216,
   "id": "1eea7bfe",
   "metadata": {},
   "outputs": [
    {
     "data": {
      "text/plain": [
       "MLPClassifier(hidden_layer_sizes=(50,), max_iter=1000)"
      ]
     },
     "execution_count": 216,
     "metadata": {},
     "output_type": "execute_result"
    }
   ],
   "source": [
    "train_x, test_x, train_y, test_y = train_test_split(x_vector, y, test_size=0.2, random_state= 0xDEADBEEF)\n",
    "from sklearn.neural_network import MLPClassifier\n",
    "\n",
    "model = MLPClassifier(hidden_layer_sizes= (50,) , max_iter = 1000)\n",
    "\n",
    "model.fit(train_x, train_y)"
   ]
  },
  {
   "cell_type": "code",
   "execution_count": 217,
   "id": "aebd4688",
   "metadata": {},
   "outputs": [
    {
     "name": "stdout",
     "output_type": "stream",
     "text": [
      "0.5681950087057458\n",
      "0.8022794846382557\n",
      "0.5978581979320532\n",
      "0.6851460008463818\n"
     ]
    }
   ],
   "source": [
    "y_pred = rf.predict(test_x)\n",
    "print(accuracy_score(y_pred , test_y))\n",
    "print(precision_score(y_pred , test_y))\n",
    "print(recall_score(y_pred , test_y))\n",
    "print(f1_score(y_pred , test_y))"
   ]
  },
  {
   "cell_type": "markdown",
   "id": "603bdae7",
   "metadata": {},
   "source": [
    "# ANN with original length without stopword removal"
   ]
  },
  {
   "cell_type": "code",
   "execution_count": 212,
   "id": "67c28631",
   "metadata": {},
   "outputs": [],
   "source": [
    "from sklearn.feature_extraction.text import CountVectorizer\n",
    "from sklearn.feature_extraction.text import TfidfVectorizer\n",
    "from sklearn.model_selection import train_test_split\n",
    "from nltk.corpus import stopwords\n",
    "\n",
    "vectorizer = TfidfVectorizer( max_features=10000, ngram_range=(1,2), min_df = 3)\n",
    "\n",
    "\n",
    "x_vector = vectorizer.fit_transform(x);"
   ]
  },
  {
   "cell_type": "code",
   "execution_count": 213,
   "id": "21b78831",
   "metadata": {},
   "outputs": [
    {
     "data": {
      "text/plain": [
       "MLPClassifier(hidden_layer_sizes=(50,), max_iter=1000)"
      ]
     },
     "execution_count": 213,
     "metadata": {},
     "output_type": "execute_result"
    }
   ],
   "source": [
    "train_x, test_x, train_y, test_y = train_test_split(x_vector, y, test_size=0.2, random_state= 0xDEADBEEF)\n",
    "from sklearn.neural_network import MLPClassifier\n",
    "\n",
    "model = MLPClassifier(hidden_layer_sizes= (50,) , max_iter = 1000)\n",
    "\n",
    "model.fit(train_x, train_y)"
   ]
  },
  {
   "cell_type": "code",
   "execution_count": 214,
   "id": "09b30e2c",
   "metadata": {},
   "outputs": [
    {
     "name": "stdout",
     "output_type": "stream",
     "text": [
      "0.8418456181079512\n",
      "0.9073339940535183\n",
      "0.836455002284148\n",
      "0.8704540052293795\n"
     ]
    }
   ],
   "source": [
    "y_pred = rf.predict(test_x)\n",
    "print(accuracy_score(y_pred , test_y))\n",
    "print(precision_score(y_pred , test_y))\n",
    "print(recall_score(y_pred , test_y))\n",
    "print(f1_score(y_pred , test_y))"
   ]
  },
  {
   "cell_type": "code",
   "execution_count": null,
   "id": "0e87b158",
   "metadata": {},
   "outputs": [],
   "source": []
  },
  {
   "cell_type": "code",
   "execution_count": 19,
   "id": "013cd6c8",
   "metadata": {},
   "outputs": [
    {
     "data": {
      "image/png": "[encoded data removed]",
      "text/plain": [
       "<Figure size 1000x600 with 1 Axes>"
      ]
     },
     "metadata": {},
     "output_type": "display_data"
    }
   ],
   "source": [
    "models = ['KNN', 'Multinomial Naive Bayes', \"SVM\", 'XGBOOST', \"RandomForest\", \"ANN\"]\n",
    "Best_accuracy_scores = [0.811,0.860,0.874,0.834,0.841,0.841]\n",
    "Best_precision_scores = [0.938,0.892,0.894,0.868,0.907,0.907]\n",
    "Best_recall_scores = [0.822,0.872,0.891,0.851,0.840,0.836]\n",
    "Best_f1_scores = [0.843,0.882,0.893,0.860,0.870,0.870]\n",
    "\n",
    "# Plot the results figure\n",
    "fig, ax = plt.subplots(figsize=(10, 6))\n",
    "bar_width = 0.2\n",
    "bar_positions = range(len(models))\n",
    "\n",
    "ax.bar([pos - bar_width * 1.5 for pos in bar_positions], Best_accuracy_scores, width=bar_width, label='Accuracy')\n",
    "ax.bar([pos - bar_width * 0.5 for pos in bar_positions],  Best_precision_scores, width=bar_width, label='Precision')\n",
    "ax.bar([pos + bar_width * 0.5 for pos in bar_positions],  Best_recall_scores, width=bar_width, label='Recall')\n",
    "ax.bar([pos + bar_width * 1.5 for pos in bar_positions],  Best_f1_scores, width=bar_width, label='F1 Score')\n",
    "\n",
    "ax.set_xticks(bar_positions)\n",
    "ax.set_xticklabels(models)\n",
    "ax.set_ylabel('Scores')\n",
    "ax.set_title('Revised Results Figure')\n",
    "ax.legend(loc=\"upper left\", bbox_to_anchor=(1.0,1.0))\n",
    "plt.show()\n"
   ]
  },
  {
   "cell_type": "code",
   "execution_count": 32,
   "id": "4e98eff8",
   "metadata": {},
   "outputs": [
    {
     "data": {
      "image/png": "[encoded data removed]",
      "text/plain": [
       "<Figure size 1000x600 with 1 Axes>"
      ]
     },
     "metadata": {},
     "output_type": "display_data"
    }
   ],
   "source": [
    "models=[\"Original length and stopword removal\",\"Original length and without stopword removal\",\n",
    "        \"mean length and stopword removal\"]\n",
    "accuracy_scores= [0.874,0.874,0.852]\n",
    "precision_scores=[0.894,0.894,0.887]\n",
    "recall_scores=[0.891,0.891,0.864]\n",
    "f1_scores=[0.893,0.893,0.876]\n",
    "# Plot the results figure\n",
    "fig, ax = plt.subplots(figsize=(10, 6))\n",
    "bar_width = 0.2\n",
    "bar_positions = range(len(models))\n",
    "\n",
    "ax.bar([pos - bar_width * 1.5 for pos in bar_positions],accuracy_scores, width=bar_width, label='Accuracy')\n",
    "ax.bar([pos - bar_width * 0.5 for pos in bar_positions],precision_scores, width=bar_width, label='Precision')\n",
    "ax.bar([pos + bar_width * 0.5 for pos in bar_positions],recall_scores, width=bar_width, label='Recall')\n",
    "ax.bar([pos + bar_width * 1.5 for pos in bar_positions],f1_scores, width=bar_width, label='F1 Score')\n",
    "\n",
    "ax.set_xticks(bar_positions)\n",
    "ax.set_xticklabels(models ,rotation=45, ha=\"right\")\n",
    "ax.set_ylabel('Scores')\n",
    "ax.set_title('Additional Results')\n",
    "ax.legend(loc=\"upper left\", bbox_to_anchor=(1.0,1.0))\n",
    "\n",
    "plt.show()\n"
   ]
  }
 ],
 "metadata": {
  "kernelspec": {
   "display_name": "Python 3 (ipykernel)",
   "language": "python",
   "name": "python3"
  },
  "language_info": {
   "codemirror_mode": {
    "name": "ipython",
    "version": 3
   },
   "file_extension": ".py",
   "mimetype": "text/x-python",
   "name": "python",
   "nbconvert_exporter": "python",
   "pygments_lexer": "ipython3",
   "version": "3.9.13"
  }
 },
 "nbformat": 4,
 "nbformat_minor": 5
}
